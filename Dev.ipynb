{
 "cells": [
  {
   "cell_type": "code",
   "execution_count": 8,
   "metadata": {},
   "outputs": [],
   "source": [
    "import requests\n",
    "import traceback\n",
    "import os\n",
    "import boto3\n",
    "import pandas as pd\n",
    "from dotenv import load_dotenv\n",
    "from github_python_fetch import fetch_function\n",
    "from query_package import get_query_package\n",
    "from datetime import datetime\n",
    "\n",
    "\n",
    "# GitHub Access \n",
    "token = os.getenv('GITHUBTOKEN')\n",
    "\n",
    "# AWS Access\n",
    "access = os.getenv('ACCESS')\n",
    "secret = os.getenv('SECRET')\n",
    "\n",
    "# RDS Access\n",
    "username = os.getenv('USER')\n",
    "password = os.getenv('PASS')\n",
    "server = os.getenv('SERVER')\n",
    "db = os.getenv('DB')\n",
    "\n",
    "bucket = os.getenv('BUCKET')    # AWS RDS bucket name\n",
    "project_folder = os.getenv('PROJECTFOLDER')     # AWS S3 Project Folder Path\n",
    "active_folder = os.getenv('ACTIVEFOLDER')    # AWS S3 Project Active Folder Path\n",
    "archive_folder = os.getenv('ARCHIVEFOLDER')\n",
    "\n",
    "# Access RDS Functions via GitHub\n",
    "rds_connector_url = 'https://raw.githubusercontent.com/CharlesRoss-MBakerIntl/TB-RDS-Connect/main/rds_connector.py' # Set url to python file of github\n",
    "rds_connector = fetch_function(rds_connector_url, token) # Pull function from github using requests\n",
    "exec(rds_connector) # Execute the file\n",
    "\n",
    "\n",
    "# Access RDS Functions via GitHub\n",
    "s3_manager_url = 'https://raw.githubusercontent.com/CharlesRoss-MBakerIntl/TB-S3-Manager/main/s3_bucket_util.py' # Set url to python file of github\n",
    "s3_manager = fetch_function(s3_manager_url, token) # Pull function from github using requests\n",
    "exec(s3_manager) # Execute the file\n",
    "\n",
    "# Create a Boto3 client for S3\n",
    "s3 = boto3.client(\n",
    "    's3',\n",
    "    aws_access_key_id=access,\n",
    "    aws_secret_access_key=secret\n",
    ")\n",
    "\n",
    "\n",
    "# Pull Query Package from File\n",
    "query_package = get_query_package()\n",
    "\n",
    "\n",
    "# Store RDS Functions Locally\n",
    "conn, cursor = rds_connection(username, password, db, server) # Connect to RDS Database\n",
    "rds = RDS(conn, cursor, query_package) # Create Instance of RDS Table\n",
    "df = rds.df"
   ]
  },
  {
   "cell_type": "code",
   "execution_count": 13,
   "metadata": {},
   "outputs": [],
   "source": [
    "add_archive_folder(s3 = s3, \n",
    "                   bucket = bucket, \n",
    "                   project_folder = project_folder, \n",
    "                   archive_folder = archive_folder, \n",
    "                   limit = 30,\n",
    "                   versions = rds.cleaning_versions)\n"
   ]
  },
  {
   "cell_type": "code",
   "execution_count": 2,
   "metadata": {},
   "outputs": [
    {
     "data": {
      "text/plain": [
       "{'ResponseMetadata': {'RequestId': 'ZJ011A888TW6YAC9',\n",
       "  'HostId': 'sFQT3m8x4MO+7RsbDp4UQcIT2k3o+s04519qXIMoWnvN8mXFPhnTKCVyHzOfzEkNa/wlueZXRDM=',\n",
       "  'HTTPStatusCode': 200,\n",
       "  'HTTPHeaders': {'x-amz-id-2': 'sFQT3m8x4MO+7RsbDp4UQcIT2k3o+s04519qXIMoWnvN8mXFPhnTKCVyHzOfzEkNa/wlueZXRDM=',\n",
       "   'x-amz-request-id': 'ZJ011A888TW6YAC9',\n",
       "   'date': 'Thu, 31 Oct 2024 22:30:44 GMT',\n",
       "   'x-amz-server-side-encryption': 'AES256',\n",
       "   'etag': '\"0ae9bcd0c0b0aa5aab99d84beca26ce8\"',\n",
       "   'content-length': '0',\n",
       "   'server': 'AmazonS3'},\n",
       "  'RetryAttempts': 1},\n",
       " 'ETag': '\"0ae9bcd0c0b0aa5aab99d84beca26ce8\"',\n",
       " 'ServerSideEncryption': 'AES256'}"
      ]
     },
     "execution_count": 2,
     "metadata": {},
     "output_type": "execute_result"
    }
   ],
   "source": [
    "s3.put_object(Bucket = bucket, Key = project_folder + active_folder + \"Active-FDEM-Hotem-Summary.csv\", Body = pd.DataFrame().to_csv())"
   ]
  }
 ],
 "metadata": {
  "kernelspec": {
   "display_name": "tidal-basin",
   "language": "python",
   "name": "python3"
  },
  "language_info": {
   "codemirror_mode": {
    "name": "ipython",
    "version": 3
   },
   "file_extension": ".py",
   "mimetype": "text/x-python",
   "name": "python",
   "nbconvert_exporter": "python",
   "pygments_lexer": "ipython3",
   "version": "3.12.7"
  }
 },
 "nbformat": 4,
 "nbformat_minor": 2
}
