{
 "cells": [
  {
   "cell_type": "code",
   "execution_count": 1,
   "metadata": {},
   "outputs": [
    {
     "ename": "Exception",
     "evalue": "Failed to Connect to RDS Database: connection to server at \"tidalbasin-cdbg-dr-fl-ida-backendauroraclusterclus-mopwhclky2lb.cluster-ro-ce8xd2bu2edx.us-east-2.rds.amazonaws.com\" (10.0.136.135), port 5432 failed: Connection timed out (0x0000274C/10060)\n\tIs the server running on that host and accepting TCP/IP connections?\n",
     "output_type": "error",
     "traceback": [
      "\u001b[1;31m---------------------------------------------------------------------------\u001b[0m",
      "\u001b[1;31mOperationalError\u001b[0m                          Traceback (most recent call last)",
      "File \u001b[1;32m<string>:37\u001b[0m, in \u001b[0;36mrds_connection\u001b[1;34m(username, password, db, server)\u001b[0m\n",
      "File \u001b[1;32mc:\\Users\\Charles.Ross\\Anaconda3\\envs\\tidal_basin\\lib\\site-packages\\psycopg2\\__init__.py:122\u001b[0m, in \u001b[0;36mconnect\u001b[1;34m(dsn, connection_factory, cursor_factory, **kwargs)\u001b[0m\n\u001b[0;32m    121\u001b[0m dsn \u001b[38;5;241m=\u001b[39m _ext\u001b[38;5;241m.\u001b[39mmake_dsn(dsn, \u001b[38;5;241m*\u001b[39m\u001b[38;5;241m*\u001b[39mkwargs)\n\u001b[1;32m--> 122\u001b[0m conn \u001b[38;5;241m=\u001b[39m _connect(dsn, connection_factory\u001b[38;5;241m=\u001b[39mconnection_factory, \u001b[38;5;241m*\u001b[39m\u001b[38;5;241m*\u001b[39mkwasync)\n\u001b[0;32m    123\u001b[0m \u001b[38;5;28;01mif\u001b[39;00m cursor_factory \u001b[38;5;129;01mis\u001b[39;00m \u001b[38;5;129;01mnot\u001b[39;00m \u001b[38;5;28;01mNone\u001b[39;00m:\n",
      "\u001b[1;31mOperationalError\u001b[0m: connection to server at \"tidalbasin-cdbg-dr-fl-ida-backendauroraclusterclus-mopwhclky2lb.cluster-ro-ce8xd2bu2edx.us-east-2.rds.amazonaws.com\" (10.0.136.135), port 5432 failed: Connection timed out (0x0000274C/10060)\n\tIs the server running on that host and accepting TCP/IP connections?\n",
      "\nDuring handling of the above exception, another exception occurred:\n",
      "\u001b[1;31mException\u001b[0m                                 Traceback (most recent call last)",
      "Cell \u001b[1;32mIn[1], line 43\u001b[0m\n\u001b[0;32m     39\u001b[0m query_package \u001b[38;5;241m=\u001b[39m get_query_package()\n\u001b[0;32m     42\u001b[0m \u001b[38;5;66;03m# Store RDS Functions Locally\u001b[39;00m\n\u001b[1;32m---> 43\u001b[0m conn, cursor \u001b[38;5;241m=\u001b[39m \u001b[43mrds_connection\u001b[49m\u001b[43m(\u001b[49m\u001b[43musername\u001b[49m\u001b[43m,\u001b[49m\u001b[43m \u001b[49m\u001b[43mpassword\u001b[49m\u001b[43m,\u001b[49m\u001b[43m \u001b[49m\u001b[43mdb\u001b[49m\u001b[43m,\u001b[49m\u001b[43m \u001b[49m\u001b[43mserver\u001b[49m\u001b[43m)\u001b[49m \u001b[38;5;66;03m# Connect to RDS Database\u001b[39;00m\n\u001b[0;32m     44\u001b[0m rds \u001b[38;5;241m=\u001b[39m RDS(conn, cursor, query_package) \u001b[38;5;66;03m# Create Instance of RDS Table\u001b[39;00m\n\u001b[0;32m     45\u001b[0m df \u001b[38;5;241m=\u001b[39m rds\u001b[38;5;241m.\u001b[39mdf\n",
      "File \u001b[1;32m<string>:54\u001b[0m, in \u001b[0;36mrds_connection\u001b[1;34m(username, password, db, server)\u001b[0m\n",
      "\u001b[1;31mException\u001b[0m: Failed to Connect to RDS Database: connection to server at \"tidalbasin-cdbg-dr-fl-ida-backendauroraclusterclus-mopwhclky2lb.cluster-ro-ce8xd2bu2edx.us-east-2.rds.amazonaws.com\" (10.0.136.135), port 5432 failed: Connection timed out (0x0000274C/10060)\n\tIs the server running on that host and accepting TCP/IP connections?\n"
     ]
    }
   ],
   "source": [
    "import requests\n",
    "import traceback\n",
    "import os\n",
    "import boto3\n",
    "import pandas as pd\n",
    "from dotenv import load_dotenv\n",
    "from github_python_fetch import fetch_function\n",
    "from query_package import get_query_package\n",
    "from datetime import datetime\n",
    "\n",
    "\n",
    "# GitHub Access \n",
    "token = os.getenv('GITHUBTOKEN')\n",
    "\n",
    "# AWS Access\n",
    "access = os.getenv('ACCESS')\n",
    "secret = os.getenv('SECRET')\n",
    "\n",
    "# RDS Access\n",
    "username = os.getenv('USER')\n",
    "password = os.getenv('PASS')\n",
    "server = os.getenv('SERVER')\n",
    "db = os.getenv('DB')\n",
    "\n",
    "\n",
    "# Access RDS Functions via GitHub\n",
    "rds_connector_url = 'https://raw.githubusercontent.com/CharlesRoss-MBakerIntl/Tidal-Basin-Functions/main/rds_connector.py' # Set url to python file of github\n",
    "rds_connector = fetch_function(rds_connector_url, token) # Pull function from github using requests\n",
    "exec(rds_connector) # Execute the file\n",
    "\n",
    "\n",
    "# Access RDS Functions via GitHub\n",
    "s3_manager_url = 'https://raw.githubusercontent.com/CharlesRoss-MBakerIntl/Tidal-Basin-Functions/main/rds_connector.py' # Set url to python file of github\n",
    "s3_manager = fetch_function(s3_manager_url, token) # Pull function from github using requests\n",
    "exec(s3_manager) # Execute the file\n",
    "\n",
    "\n",
    "# Pull Query Package from File\n",
    "query_package = get_query_package()\n",
    "\n",
    "\n",
    "# Store RDS Functions Locally\n",
    "conn, cursor = rds_connection(username, password, db, server) # Connect to RDS Database\n",
    "rds = RDS(conn, cursor, query_package) # Create Instance of RDS Table\n",
    "df = rds.df"
   ]
  }
 ],
 "metadata": {
  "kernelspec": {
   "display_name": "tidal_basin",
   "language": "python",
   "name": "python3"
  },
  "language_info": {
   "codemirror_mode": {
    "name": "ipython",
    "version": 3
   },
   "file_extension": ".py",
   "mimetype": "text/x-python",
   "name": "python",
   "nbconvert_exporter": "python",
   "pygments_lexer": "ipython3",
   "version": "3.9.20"
  }
 },
 "nbformat": 4,
 "nbformat_minor": 2
}
